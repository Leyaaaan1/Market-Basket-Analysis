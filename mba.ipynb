{
 "cells": [
  {
   "cell_type": "code",
   "execution_count": 7,
   "id": "36a2573d",
   "metadata": {},
   "outputs": [
    {
     "name": "stdout",
     "output_type": "stream",
     "text": [
      "   BillNo                             Itemname  Quantity          Date  Price  \\\n",
      "0  536365   WHITE HANGING HEART T-LIGHT HOLDER         6  12/1/10 8:26   2.55   \n",
      "1  536365                  WHITE METAL LANTERN         6  12/1/10 8:26   3.39   \n",
      "2  536365       CREAM CUPID HEARTS COAT HANGER         8  12/1/10 8:26   2.75   \n",
      "3  536365  KNITTED UNION FLAG HOT WATER BOTTLE         6  12/1/10 8:26   3.39   \n",
      "4  536365       RED WOOLLY HOTTIE WHITE HEART.         6  12/1/10 8:26   3.39   \n",
      "\n",
      "   CustomerID         Country  \n",
      "0     17850.0  United Kingdom  \n",
      "1     17850.0  United Kingdom  \n",
      "2     17850.0  United Kingdom  \n",
      "3     17850.0  United Kingdom  \n",
      "4     17850.0  United Kingdom  \n",
      "<class 'pandas.core.frame.DataFrame'>\n",
      "RangeIndex: 522064 entries, 0 to 522063\n",
      "Data columns (total 7 columns):\n",
      " #   Column      Non-Null Count   Dtype  \n",
      "---  ------      --------------   -----  \n",
      " 0   BillNo      522064 non-null  object \n",
      " 1   Itemname    520609 non-null  object \n",
      " 2   Quantity    522064 non-null  int64  \n",
      " 3   Date        522064 non-null  object \n",
      " 4   Price       522064 non-null  float64\n",
      " 5   CustomerID  388023 non-null  float64\n",
      " 6   Country     522064 non-null  object \n",
      "dtypes: float64(2), int64(1), object(4)\n",
      "memory usage: 27.9+ MB\n",
      "None\n",
      "            Quantity          Price     CustomerID\n",
      "count  522064.000000  522064.000000  388023.000000\n",
      "mean       10.090435       3.826801   15316.931710\n",
      "std       161.110525      41.900599    1721.846964\n",
      "min     -9600.000000  -11062.060000   12346.000000\n",
      "25%         1.000000       1.250000   13950.000000\n",
      "50%         3.000000       2.080000   15265.000000\n",
      "75%        10.000000       4.130000   16837.000000\n",
      "max     80995.000000   13541.330000   18287.000000\n",
      "BillNo             0\n",
      "Itemname        1455\n",
      "Quantity           0\n",
      "Date               0\n",
      "Price              0\n",
      "CustomerID    134041\n",
      "Country            0\n",
      "dtype: int64\n",
      "        BillNo                         Itemname  Quantity           Date  \\\n",
      "613     536414                              NaN        56  12/1/10 11:52   \n",
      "1410    536544  DECORATIVE ROSE BATHROOM BOTTLE         1  12/1/10 14:32   \n",
      "1411    536544  DECORATIVE CATS BATHROOM BOTTLE         2  12/1/10 14:32   \n",
      "1412    536544                POLKADOT RAIN HAT         4  12/1/10 14:32   \n",
      "1413    536544            RAIN PONCHO RETROSPOT         2  12/1/10 14:32   \n",
      "...        ...                              ...       ...            ...   \n",
      "521695  581498          JUMBO BAG RED RETROSPOT         5  12/9/11 10:26   \n",
      "521696  581498   JUMBO  BAG BAROQUE BLACK WHITE         4  12/9/11 10:26   \n",
      "521697  581498    LADIES & GENTLEMEN METAL SIGN         1  12/9/11 10:26   \n",
      "521698  581498                S/4 CACTI CANDLES         1  12/9/11 10:26   \n",
      "521699  581498                   DOTCOM POSTAGE         1  12/9/11 10:26   \n",
      "\n",
      "          Price  CustomerID         Country  \n",
      "613        0.00         NaN  United Kingdom  \n",
      "1410       2.51         NaN  United Kingdom  \n",
      "1411       2.51         NaN  United Kingdom  \n",
      "1412       0.85         NaN  United Kingdom  \n",
      "1413       1.66         NaN  United Kingdom  \n",
      "...         ...         ...             ...  \n",
      "521695     4.13         NaN  United Kingdom  \n",
      "521696     4.13         NaN  United Kingdom  \n",
      "521697     4.96         NaN  United Kingdom  \n",
      "521698    10.79         NaN  United Kingdom  \n",
      "521699  1714.17         NaN  United Kingdom  \n",
      "\n",
      "[134041 rows x 7 columns]\n",
      "5286\n",
      "BillNo         object\n",
      "Itemname       object\n",
      "Quantity        int64\n",
      "Date           object\n",
      "Price         float64\n",
      "CustomerID    float64\n",
      "Country        object\n",
      "dtype: object\n"
     ]
    }
   ],
   "source": [
    "import pandas as pd\n",
    "\n",
    "df = pd.read_csv('MBA.csv', low_memory=False)\n",
    "\n",
    "# Check the datasets \n",
    "\n",
    "print(df.head())\n",
    "print(df.info())\n",
    "print(df.describe())\n",
    "\n",
    "print(df.isnull().sum())\n",
    "print(df[df.isnull().any(axis=1)])\n",
    "print(df.duplicated().sum())\n",
    "print(df.dtypes)\n",
    "\n",
    "\n"
   ]
  },
  {
   "cell_type": "code",
   "execution_count": 8,
   "id": "25266863",
   "metadata": {},
   "outputs": [
    {
     "data": {
      "text/plain": [
       "Series([], Name: count, dtype: int64)"
      ]
     },
     "execution_count": 8,
     "metadata": {},
     "output_type": "execute_result"
    }
   ],
   "source": [
    "# removes all negative and zero values in quantities\n",
    "df =df[df['Quantity'] > 0 ]\n",
    "\n",
    "# remove 0 price\n",
    "df = df[df['Price'] > 0]\n",
    "\n",
    "#check products the are not real or invalid item\n",
    "df[df['Price'] == 0]['Itemname'].value_counts()\n",
    "\n"
   ]
  },
  {
   "cell_type": "code",
   "execution_count": 9,
   "id": "d4b4c5f6",
   "metadata": {},
   "outputs": [],
   "source": [
    "# remove the invalid item\n",
    "invalid_items = ['check', 'found', 'Found', 'adjustment', 'amazon']\n",
    "df = df[~df['Itemname'].isin(invalid_items)]"
   ]
  },
  {
   "cell_type": "code",
   "execution_count": 10,
   "id": "b2889e36",
   "metadata": {},
   "outputs": [],
   "source": [
    "# drop invalid columns\n",
    "\n",
    "df.drop_duplicates(inplace=True)\n",
    "df.dropna(inplace=True)\n",
    "df.dropna(subset=['Itemname'], inplace=True)"
   ]
  },
  {
   "cell_type": "code",
   "execution_count": 11,
   "id": "a00f47cf",
   "metadata": {},
   "outputs": [],
   "source": [
    "import os\n",
    "\n",
    "if not os.path.exists(\"cleaned_MBA.csv\"):\n",
    "    df.to_csv(\"cleaned_MBA.csv\", index=False)\n",
    "\n"
   ]
  },
  {
   "cell_type": "code",
   "execution_count": null,
   "id": "b9efb91b",
   "metadata": {},
   "outputs": [
    {
     "name": "stdout",
     "output_type": "stream",
     "text": [
      "   BillNo                             Itemname  Quantity          Date  Price  \\\n",
      "0  536365   WHITE HANGING HEART T-LIGHT HOLDER         6  12/1/10 8:26   2.55   \n",
      "1  536365                  WHITE METAL LANTERN         6  12/1/10 8:26   3.39   \n",
      "2  536365       CREAM CUPID HEARTS COAT HANGER         8  12/1/10 8:26   2.75   \n",
      "3  536365  KNITTED UNION FLAG HOT WATER BOTTLE         6  12/1/10 8:26   3.39   \n",
      "4  536365       RED WOOLLY HOTTIE WHITE HEART.         6  12/1/10 8:26   3.39   \n",
      "\n",
      "   CustomerID         Country  \n",
      "0     17850.0  United Kingdom  \n",
      "1     17850.0  United Kingdom  \n",
      "2     17850.0  United Kingdom  \n",
      "3     17850.0  United Kingdom  \n",
      "4     17850.0  United Kingdom  \n"
     ]
    }
   ],
   "source": [
    "# Import the cleaned data\n",
    "cleaned_df = pd.read_csv(\"cleaned_MBA.csv\")"
   ]
  },
  {
   "cell_type": "code",
   "execution_count": 14,
   "id": "1afdd8f1",
   "metadata": {},
   "outputs": [
    {
     "name": "stderr",
     "output_type": "stream",
     "text": [
      "C:\\Users\\leyan\\AppData\\Local\\Temp\\ipykernel_2984\\4156348744.py:12: FutureWarning: DataFrame.applymap has been deprecated. Use DataFrame.map instead.\n",
      "  basket_sets = basket_filtered.applymap(lambda x: 1 if x >= 1 else 0).astype(bool)\n"
     ]
    },
    {
     "name": "stdout",
     "output_type": "stream",
     "text": [
      "Frequent Itemsets:\n",
      "    support                               itemsets\n",
      "0  0.013051               (10 COLOUR SPACEBOY PEN)\n",
      "1  0.010133      (12 MESSAGE CARDS WITH ENVELOPES)\n",
      "2  0.015089        (12 PENCIL SMALL TUBE WOODLAND)\n",
      "3  0.016796  (12 PENCILS SMALL TUBE RED RETROSPOT)\n",
      "4  0.015915          (12 PENCILS SMALL TUBE SKULL)\n"
     ]
    }
   ],
   "source": [
    "from mlxtend.frequent_patterns import apriori, association_rules\n",
    "\n",
    "# Create the basket (transaction matrix) from cleaned_df\n",
    "basket = cleaned_df.pivot_table(index='BillNo', columns='Itemname', values='Quantity', aggfunc='sum', fill_value=0)\n",
    "\n",
    "# Filter out infrequent items to reduce memory usage\n",
    "item_frequencies = basket.sum(axis=0)\n",
    "frequent_items = item_frequencies[item_frequencies >= 20].index  # keep items bought at least 20 times\n",
    "basket_filtered = basket[frequent_items]\n",
    "\n",
    "# Convert quantities to 0 or 1 and to boolean for memory efficiency\n",
    "basket_sets = basket_filtered.applymap(lambda x: 1 if x >= 1 else 0).astype(bool)\n",
    "\n",
    "# Increase min_support if still running out of memory (try 0.01 or higher)\n",
    "frequent_itemsets = apriori(basket_sets, min_support=0.01, use_colnames=True)\n",
    "\n",
    "print(\"Frequent Itemsets:\")\n",
    "print(frequent_itemsets.head())"
   ]
  },
  {
   "cell_type": "code",
   "execution_count": null,
   "id": "834f781f",
   "metadata": {},
   "outputs": [
    {
     "name": "stdout",
     "output_type": "stream",
     "text": [
      "Association Rules:\n"
     ]
    }
   ],
   "source": [
    "rules = association_rules(frequent_itemsets, metric=\"lift\", min_threshold=1.0)\n"
   ]
  },
  {
   "cell_type": "code",
   "execution_count": 19,
   "id": "60d3680c",
   "metadata": {},
   "outputs": [],
   "source": [
    "rules_filtered = rules[(rules['confidence'] >= 0.6) & (rules['lift'] >= 1.2)]"
   ]
  },
  {
   "cell_type": "code",
   "execution_count": 20,
   "id": "dc678251",
   "metadata": {},
   "outputs": [
    {
     "name": "stdout",
     "output_type": "stream",
     "text": [
      "\n",
      "Association Rules (Top 10):\n",
      "                         antecedents                      consequents  \\\n",
      "528       (REGENCY SUGAR BOWL GREEN)          (REGENCY MILK JUG PINK)   \n",
      "529          (REGENCY MILK JUG PINK)       (REGENCY SUGAR BOWL GREEN)   \n",
      "531        (REGENCY TEA PLATE ROSES)        (REGENCY TEA PLATE GREEN)   \n",
      "530        (REGENCY TEA PLATE GREEN)        (REGENCY TEA PLATE ROSES)   \n",
      "504   (POPPY'S PLAYHOUSE LIVINGROOM)      (POPPY'S PLAYHOUSE BEDROOM)   \n",
      "505      (POPPY'S PLAYHOUSE BEDROOM)   (POPPY'S PLAYHOUSE LIVINGROOM)   \n",
      "560  (SET/6 RED SPOTTY PAPER PLATES)    (SET/6 RED SPOTTY PAPER CUPS)   \n",
      "561    (SET/6 RED SPOTTY PAPER CUPS)  (SET/6 RED SPOTTY PAPER PLATES)   \n",
      "506      (POPPY'S PLAYHOUSE KITCHEN)   (POPPY'S PLAYHOUSE LIVINGROOM)   \n",
      "507   (POPPY'S PLAYHOUSE LIVINGROOM)      (POPPY'S PLAYHOUSE KITCHEN)   \n",
      "\n",
      "      support  confidence       lift  \n",
      "528  0.010133    0.763485  56.588297  \n",
      "529  0.010133    0.751020  56.588297  \n",
      "531  0.011399    0.687708  50.764565  \n",
      "530  0.011399    0.841463  50.764565  \n",
      "504  0.010904    0.811475  47.998638  \n",
      "505  0.010904    0.644951  47.998638  \n",
      "560  0.012611    0.724684  47.336433  \n",
      "561  0.012611    0.823741  47.336433  \n",
      "506  0.011454    0.619048  46.070843  \n",
      "507  0.011454    0.852459  46.070843  \n"
     ]
    }
   ],
   "source": [
    "# Display top 10 rules\n",
    "print(\"\\nAssociation Rules (Top 10):\")\n",
    "print(rules_filtered[['antecedents', 'consequents', 'support', 'confidence', 'lift']]\n",
    "      .sort_values(by='lift', ascending=False).head(10))"
   ]
  },
  {
   "cell_type": "markdown",
   "id": "7b1dcce6",
   "metadata": {},
   "source": [
    "Explain the shit here report it butngig visual para chada"
   ]
  },
  {
   "cell_type": "markdown",
   "id": "a905c0c1",
   "metadata": {},
   "source": []
  },
  {
   "cell_type": "markdown",
   "id": "31fee78d",
   "metadata": {},
   "source": []
  }
 ],
 "metadata": {
  "kernelspec": {
   "display_name": "Python 3",
   "language": "python",
   "name": "python3"
  },
  "language_info": {
   "codemirror_mode": {
    "name": "ipython",
    "version": 3
   },
   "file_extension": ".py",
   "mimetype": "text/x-python",
   "name": "python",
   "nbconvert_exporter": "python",
   "pygments_lexer": "ipython3",
   "version": "3.13.3"
  }
 },
 "nbformat": 4,
 "nbformat_minor": 5
}
